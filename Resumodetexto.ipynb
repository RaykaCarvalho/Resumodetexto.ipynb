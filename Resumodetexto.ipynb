{
  "nbformat": 4,
  "nbformat_minor": 0,
  "metadata": {
    "colab": {
      "provenance": [],
      "authorship_tag": "ABX9TyMcfFefTgkv/OPo3cKXmhYm",
      "include_colab_link": true
    },
    "kernelspec": {
      "name": "python3",
      "display_name": "Python 3"
    },
    "language_info": {
      "name": "python"
    }
  },
  "cells": [
    {
      "cell_type": "markdown",
      "metadata": {
        "id": "view-in-github",
        "colab_type": "text"
      },
      "source": [
        "<a href=\"https://colab.research.google.com/github/RaykaCarvalho/Resumodetexto.ipynb/blob/main/Resumodetexto.ipynb\" target=\"_parent\"><img src=\"https://colab.research.google.com/assets/colab-badge.svg\" alt=\"Open In Colab\"/></a>"
      ]
    },
    {
      "cell_type": "code",
      "execution_count": 1,
      "metadata": {
        "id": "OAWD1dpNWrbj"
      },
      "outputs": [],
      "source": [
        "!pip install -U -q google-generativeai"
      ]
    },
    {
      "cell_type": "code",
      "source": [
        "!pip install google-generativeai"
      ],
      "metadata": {
        "id": "kwc2Xuo7W9et"
      },
      "execution_count": null,
      "outputs": []
    },
    {
      "cell_type": "code",
      "source": [
        "pip install python-dotenv"
      ],
      "metadata": {
        "id": "ij_-gAfUXHBG"
      },
      "execution_count": null,
      "outputs": []
    },
    {
      "cell_type": "code",
      "source": [
        "!pip install transformers"
      ],
      "metadata": {
        "id": "TB8EJXRPXbe2"
      },
      "execution_count": null,
      "outputs": []
    },
    {
      "cell_type": "code",
      "source": [
        "from transformers import pipeline"
      ],
      "metadata": {
        "id": "EUHdTMqlYvB5"
      },
      "execution_count": 12,
      "outputs": []
    },
    {
      "cell_type": "code",
      "source": [
        "summarizer = pipeline(\"summarization\")"
      ],
      "metadata": {
        "id": "2njaQfTTY5B5"
      },
      "execution_count": null,
      "outputs": []
    },
    {
      "cell_type": "code",
      "source": [
        "texto = \"\"\"\n",
        "Este é um exemplo de texto longo que você deseja resumir.\n",
        "Ele pode conter vários parágrafos e discutir diferentes tópicos.\n",
        "O objetivo é usar o modelo de resumo para extrair os pontos principais e criar um resumo conciso do texto.\n",
        "\"\"\""
      ],
      "metadata": {
        "id": "d-Uv4ZPRZD61"
      },
      "execution_count": 14,
      "outputs": []
    },
    {
      "cell_type": "code",
      "source": [
        "print(resumo[0]['summary_text'])"
      ],
      "metadata": {
        "id": "4JjW0rG3ZLBY"
      },
      "execution_count": null,
      "outputs": []
    },
    {
      "cell_type": "code",
      "source": [
        "print(resumo[0]['summary_text'])"
      ],
      "metadata": {
        "id": "1ezJ2m2sZO4n"
      },
      "execution_count": null,
      "outputs": []
    },
    {
      "cell_type": "code",
      "source": [
        "\n",
        "\n",
        "texto = input(\"Cole o texto que você quer resumir aqui:\\n\")\n",
        "\n",
        "resumo = summarizer(texto, do_sample=False)\n",
        "\n",
        "print(\"\\nResumo do texto:\\n\")\n",
        "print(resumo[0]['summary_text'])"
      ],
      "metadata": {
        "id": "e-n39lpqcbtV"
      },
      "execution_count": null,
      "outputs": []
    },
    {
      "cell_type": "code",
      "source": [
        "!pip install transformers gTTS\n",
        "from transformers import pipeline\n",
        "from gtts import gTTS\n",
        "from IPython.display import Audio\n",
        "\n",
        "summarizer = pipeline(\"summarization\", model=\"facebook/bart-large-cnn\")\n",
        "\n",
        "texto = input(\"Cole o texto que você quer resumir aqui:\\n\")\n",
        "resumo = summarizer(texto, do_sample=False)\n",
        "\n",
        "texto_resumido = resumo[0]['summary_text']\n",
        "print(\"\\nResumo do texto:\\n\", texto_resumido)\n",
        "\n",
        "# Converter o texto em áudio\n",
        "tts = gTTS(text=texto_resumido, lang='pt')\n",
        "tts.save(\"resumo.mp3\")\n",
        "\n",
        "# Reproduzir o áudio\n",
        "display(Audio(\"resumo.mp3\", autoplay=True))"
      ],
      "metadata": {
        "id": "wFb_tOswc3GC"
      },
      "execution_count": null,
      "outputs": []
    }
  ]
}